{
  "nbformat": 4,
  "nbformat_minor": 0,
  "metadata": {
    "colab": {
      "provenance": [],
      "authorship_tag": "ABX9TyPh9n+GkpbhbDbE8uynoqWx",
      "include_colab_link": true
    },
    "kernelspec": {
      "name": "python3",
      "display_name": "Python 3"
    },
    "language_info": {
      "name": "python"
    }
  },
  "cells": [
    {
      "cell_type": "markdown",
      "metadata": {
        "id": "view-in-github",
        "colab_type": "text"
      },
      "source": [
        "<a href=\"https://colab.research.google.com/github/cgrundman/nuclear-magnetic-resonance/blob/master/pattern_recognizer.ipynb\" target=\"_parent\"><img src=\"https://colab.research.google.com/assets/colab-badge.svg\" alt=\"Open In Colab\"/></a>"
      ]
    },
    {
      "cell_type": "markdown",
      "source": [
        "# Pattern Recognizer\n",
        "\n",
        "This is the last stage of the Continuous Wave Nuclear Magnatic Resonance Project found at: https://github.com/cgrundman/nuclear-magnetic-resonance. Found in this documentation is merely the information crucial to creating and evaluating the ML model. For more details, please refer to the ``readme`` in the above link."
      ],
      "metadata": {
        "id": "vqT1DbB-S8uS"
      }
    },
    {
      "cell_type": "code",
      "source": [
        "import tensorflow as tf\n",
        "print(f\"TensorFlow Version: {tf.__version__}\")"
      ],
      "metadata": {
        "id": "ffD7NmfdTZbG"
      },
      "execution_count": null,
      "outputs": []
    },
    {
      "cell_type": "markdown",
      "source": [
        "## Load Data"
      ],
      "metadata": {
        "id": "kPUN8urbTKoX"
      }
    },
    {
      "cell_type": "code",
      "execution_count": null,
      "metadata": {
        "id": "jvDqabuUSsvQ"
      },
      "outputs": [],
      "source": [
        "## TODO Load the Data"
      ]
    },
    {
      "cell_type": "markdown",
      "source": [
        "## Create Models"
      ],
      "metadata": {
        "id": "92WxLRWDTM8e"
      }
    },
    {
      "cell_type": "code",
      "source": [
        "## TODO Create Model 1"
      ],
      "metadata": {
        "id": "w9UkfNV_TSmO"
      },
      "execution_count": null,
      "outputs": []
    },
    {
      "cell_type": "code",
      "source": [
        "## TODO Create Model 2"
      ],
      "metadata": {
        "id": "GTv8pcvDUm4d"
      },
      "execution_count": null,
      "outputs": []
    },
    {
      "cell_type": "code",
      "source": [
        "## TODO Create Model 3"
      ],
      "metadata": {
        "id": "iD3mRRsOUo4H"
      },
      "execution_count": null,
      "outputs": []
    },
    {
      "cell_type": "markdown",
      "source": [
        "## Show Model's Performance"
      ],
      "metadata": {
        "id": "CJcfuuGFTSz-"
      }
    },
    {
      "cell_type": "code",
      "source": [
        "# Create Comparison of Models"
      ],
      "metadata": {
        "id": "6dv50I9eTYj0"
      },
      "execution_count": null,
      "outputs": []
    },
    {
      "cell_type": "markdown",
      "source": [
        "## Conclusion"
      ],
      "metadata": {
        "id": "htFe7Q8zUqsg"
      }
    }
  ]
}